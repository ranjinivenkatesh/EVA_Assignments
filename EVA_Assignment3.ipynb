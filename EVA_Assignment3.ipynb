{
  "nbformat": 4,
  "nbformat_minor": 0,
  "metadata": {
    "colab": {
      "name": "EVA_Assignment3.ipynb",
      "version": "0.3.2",
      "provenance": [],
      "collapsed_sections": []
    },
    "kernelspec": {
      "name": "python3",
      "display_name": "Python 3"
    },
    "accelerator": "GPU"
  },
  "cells": [
    {
      "cell_type": "markdown",
      "metadata": {
        "id": "aNyZv-Ec52ot",
        "colab_type": "text"
      },
      "source": [
        "# **Import Libraries and modules**"
      ]
    },
    {
      "cell_type": "code",
      "metadata": {
        "id": "3m3w1Cw49Zkt",
        "colab_type": "code",
        "colab": {}
      },
      "source": [
        "#Installs and imports deep learning library keras\n",
        "# https://keras.io/\n",
        "!pip install -q keras\n",
        "import keras"
      ],
      "execution_count": 0,
      "outputs": []
    },
    {
      "cell_type": "code",
      "metadata": {
        "id": "Eso6UHE080D4",
        "colab_type": "code",
        "colab": {}
      },
      "source": [
        "#import required python packages required for processing\n",
        "import numpy as np\n",
        "\n",
        "#import sequential model type of keras where layers are added one by one\n",
        "from keras.models import Sequential\n",
        "from keras.layers import Dense, Dropout, Activation, Flatten, Add\n",
        "from keras.layers import Convolution2D, MaxPooling2D\n",
        "from keras.utils import np_utils\n",
        "\n",
        "from keras.datasets import mnist"
      ],
      "execution_count": 0,
      "outputs": []
    },
    {
      "cell_type": "markdown",
      "metadata": {
        "id": "zByEi95J86RD",
        "colab_type": "text"
      },
      "source": [
        "### Load pre-shuffled MNIST data into train and test sets"
      ]
    },
    {
      "cell_type": "code",
      "metadata": {
        "id": "hNSS2DeB2zg8",
        "colab_type": "code",
        "colab": {}
      },
      "source": [
        ""
      ],
      "execution_count": 0,
      "outputs": []
    },
    {
      "cell_type": "code",
      "metadata": {
        "id": "7eRM0QWN83PV",
        "colab_type": "code",
        "colab": {}
      },
      "source": [
        "#split the mnist dataset to training and test datasets\n",
        "(X_train, y_train), (X_test, y_test) = mnist.load_data()"
      ],
      "execution_count": 0,
      "outputs": []
    },
    {
      "cell_type": "code",
      "metadata": {
        "id": "4a4Be72j8-ZC",
        "colab_type": "code",
        "outputId": "1899152e-05fe-439a-e074-f26e0849d713",
        "colab": {
          "base_uri": "https://localhost:8080/",
          "height": 303
        }
      },
      "source": [
        "#Print the dimension of training dataset of mnist and  first training image\n",
        "print (X_train.shape)\n",
        "from matplotlib import pyplot as plt\n",
        "%matplotlib inline\n",
        "plt.imshow(X_train[0])"
      ],
      "execution_count": 0,
      "outputs": [
        {
          "output_type": "stream",
          "text": [
            "(60000, 28, 28)\n"
          ],
          "name": "stdout"
        },
        {
          "output_type": "execute_result",
          "data": {
            "text/plain": [
              "<matplotlib.image.AxesImage at 0x7f92bb329048>"
            ]
          },
          "metadata": {
            "tags": []
          },
          "execution_count": 54
        },
        {
          "output_type": "display_data",
          "data": {
            "image/png": "[encoded data removed]",
            "text/plain": [
              "<Figure size 432x288 with 1 Axes>"
            ]
          },
          "metadata": {
            "tags": []
          }
        }
      ]
    },
    {
      "cell_type": "code",
      "metadata": {
        "id": "dkmprriw9AnZ",
        "colab_type": "code",
        "colab": {}
      },
      "source": [
        "#Reshaped Train and Test datasets from (60000,28,28) to (60000, 28,28,1) by taking into input channels \n",
        "X_train = X_train.reshape(X_train.shape[0], 28, 28,1)\n",
        "X_test = X_test.reshape(X_test.shape[0], 28, 28,1)"
      ],
      "execution_count": 0,
      "outputs": []
    },
    {
      "cell_type": "code",
      "metadata": {
        "id": "X2m4YS4E9CRh",
        "colab_type": "code",
        "colab": {}
      },
      "source": [
        "#Ascertaining Value type of float and Normalising the values of pixels to be between 0 and 1\n",
        "X_train = X_train.astype('float32')\n",
        "X_test = X_test.astype('float32')\n",
        "X_train /= 255\n",
        "X_test /= 255"
      ],
      "execution_count": 0,
      "outputs": []
    },
    {
      "cell_type": "code",
      "metadata": {
        "id": "0Mn0vAYD9DvB",
        "colab_type": "code",
        "outputId": "7a73f844-f543-4c7a-fba4-9245ed61dda2",
        "colab": {
          "base_uri": "https://localhost:8080/",
          "height": 34
        }
      },
      "source": [
        "#Print the actual outputs of first 10 training datasets\n",
        "y_train[:10]"
      ],
      "execution_count": 0,
      "outputs": [
        {
          "output_type": "execute_result",
          "data": {
            "text/plain": [
              "array([5, 0, 4, 1, 9, 2, 1, 3, 1, 4], dtype=uint8)"
            ]
          },
          "metadata": {
            "tags": []
          },
          "execution_count": 57
        }
      ]
    },
    {
      "cell_type": "code",
      "metadata": {
        "id": "ZG8JiXR39FHC",
        "colab_type": "code",
        "colab": {}
      },
      "source": [
        "# Convert 1-dimensional class arrays to 10-dimensional class matrices\n",
        "Y_train = np_utils.to_categorical(y_train, 10)\n",
        "Y_test = np_utils.to_categorical(y_test, 10)"
      ],
      "execution_count": 0,
      "outputs": []
    },
    {
      "cell_type": "code",
      "metadata": {
        "id": "fYlFRvKS9HMB",
        "colab_type": "code",
        "outputId": "553ce190-4403-4439-b000-0a58832d0a33",
        "colab": {
          "base_uri": "https://localhost:8080/",
          "height": 187
        }
      },
      "source": [
        "#Print the actual outputs of first 10 training datasets as categorical values \n",
        "Y_train[:10]\n"
      ],
      "execution_count": 0,
      "outputs": [
        {
          "output_type": "execute_result",
          "data": {
            "text/plain": [
              "array([[0., 0., 0., 0., 0., 1., 0., 0., 0., 0.],\n",
              "       [1., 0., 0., 0., 0., 0., 0., 0., 0., 0.],\n",
              "       [0., 0., 0., 0., 1., 0., 0., 0., 0., 0.],\n",
              "       [0., 1., 0., 0., 0., 0., 0., 0., 0., 0.],\n",
              "       [0., 0., 0., 0., 0., 0., 0., 0., 0., 1.],\n",
              "       [0., 0., 1., 0., 0., 0., 0., 0., 0., 0.],\n",
              "       [0., 1., 0., 0., 0., 0., 0., 0., 0., 0.],\n",
              "       [0., 0., 0., 1., 0., 0., 0., 0., 0., 0.],\n",
              "       [0., 1., 0., 0., 0., 0., 0., 0., 0., 0.],\n",
              "       [0., 0., 0., 0., 1., 0., 0., 0., 0., 0.]], dtype=float32)"
            ]
          },
          "metadata": {
            "tags": []
          },
          "execution_count": 59
        }
      ]
    },
    {
      "cell_type": "code",
      "metadata": {
        "id": "osKqT73Q9JJB",
        "colab_type": "code",
        "outputId": "6378c357-01d4-49a9-8c28-69ee52713c5d",
        "colab": {
          "base_uri": "https://localhost:8080/",
          "height": 241
        }
      },
      "source": [
        "#Generate a model for training the mnsit dataset\n",
        "from keras.layers import Activation\n",
        "from keras.layers.normalization import BatchNormalization\n",
        "model = Sequential()\n",
        "\n",
        "model.add(Convolution2D(8, 3, 3,input_shape=(28,28,1)))\n",
        "model.add(BatchNormalization())\n",
        "model.add(Activation('relu'))\n",
        "\n",
        "model.add(Convolution2D(16,3,3))\n",
        "model.add(BatchNormalization())\n",
        "model.add(Activation('relu'))\n",
        "          \n",
        "model.add(Dropout(0.2))          \n",
        "          \n",
        "model.add(Convolution2D(24,3,3))\n",
        "model.add(BatchNormalization())\n",
        "model.add(Activation('relu'))         \n",
        "         \n",
        "model.add(MaxPooling2D(pool_size=(2, 2), strides=None, padding='valid', data_format=None))\n",
        "model.add(Convolution2D(10,1,1))\n",
        "          \n",
        "          \n",
        "model.add(Convolution2D(8,3,3))\n",
        "model.add(BatchNormalization())\n",
        "model.add(Activation('relu'))     \n",
        "          \n",
        "model.add(Convolution2D(16,3,3))\n",
        "model.add(BatchNormalization())\n",
        "model.add(Activation('relu'))\n",
        "          \n",
        "model.add(Dropout(0.2))\n",
        "          \n",
        "          \n",
        "model.add(Convolution2D(24,3,3))\n",
        "model.add(BatchNormalization())\n",
        "model.add(Activation('relu'))\n",
        "\n",
        "model.add(Convolution2D(24,3,3))\n",
        "model.add(BatchNormalization())\n",
        "model.add(Activation('relu'))\n",
        "          \n",
        "model.add(Convolution2D(10,3,3))\n",
        "model.add(BatchNormalization())\n",
        "model.add(Activation('relu'))          \n",
        "\n",
        "model.add(Flatten())\n",
        "model.add(Activation('softmax'))\n",
        "\n"
      ],
      "execution_count": 0,
      "outputs": [
        {
          "output_type": "stream",
          "text": [
            "/usr/local/lib/python3.6/dist-packages/ipykernel_launcher.py:6: UserWarning: Update your `Conv2D` call to the Keras 2 API: `Conv2D(8, (3, 3), input_shape=(28, 28, 1...)`\n",
            "  \n",
            "/usr/local/lib/python3.6/dist-packages/ipykernel_launcher.py:10: UserWarning: Update your `Conv2D` call to the Keras 2 API: `Conv2D(16, (3, 3))`\n",
            "  # Remove the CWD from sys.path while we load stuff.\n",
            "/usr/local/lib/python3.6/dist-packages/ipykernel_launcher.py:16: UserWarning: Update your `Conv2D` call to the Keras 2 API: `Conv2D(24, (3, 3))`\n",
            "  app.launch_new_instance()\n",
            "/usr/local/lib/python3.6/dist-packages/ipykernel_launcher.py:21: UserWarning: Update your `Conv2D` call to the Keras 2 API: `Conv2D(10, (1, 1))`\n",
            "/usr/local/lib/python3.6/dist-packages/ipykernel_launcher.py:24: UserWarning: Update your `Conv2D` call to the Keras 2 API: `Conv2D(8, (3, 3))`\n",
            "/usr/local/lib/python3.6/dist-packages/ipykernel_launcher.py:28: UserWarning: Update your `Conv2D` call to the Keras 2 API: `Conv2D(16, (3, 3))`\n",
            "/usr/local/lib/python3.6/dist-packages/ipykernel_launcher.py:35: UserWarning: Update your `Conv2D` call to the Keras 2 API: `Conv2D(24, (3, 3))`\n",
            "/usr/local/lib/python3.6/dist-packages/ipykernel_launcher.py:39: UserWarning: Update your `Conv2D` call to the Keras 2 API: `Conv2D(24, (3, 3))`\n",
            "/usr/local/lib/python3.6/dist-packages/ipykernel_launcher.py:43: UserWarning: Update your `Conv2D` call to the Keras 2 API: `Conv2D(10, (3, 3))`\n"
          ],
          "name": "stderr"
        }
      ]
    },
    {
      "cell_type": "code",
      "metadata": {
        "id": "TzdAYg1k9K7Z",
        "colab_type": "code",
        "outputId": "6074b71e-3478-4e29-902f-5e9b5bd3a088",
        "colab": {
          "base_uri": "https://localhost:8080/",
          "height": 1156
        }
      },
      "source": [
        "#Print Model Summary giving the number of parameters\n",
        "model.summary()"
      ],
      "execution_count": 0,
      "outputs": [
        {
          "output_type": "stream",
          "text": [
            "_________________________________________________________________\n",
            "Layer (type)                 Output Shape              Param #   \n",
            "=================================================================\n",
            "conv2d_37 (Conv2D)           (None, 26, 26, 8)         80        \n",
            "_________________________________________________________________\n",
            "batch_normalization_32 (Batc (None, 26, 26, 8)         32        \n",
            "_________________________________________________________________\n",
            "activation_35 (Activation)   (None, 26, 26, 8)         0         \n",
            "_________________________________________________________________\n",
            "conv2d_38 (Conv2D)           (None, 24, 24, 16)        1168      \n",
            "_________________________________________________________________\n",
            "batch_normalization_33 (Batc (None, 24, 24, 16)        64        \n",
            "_________________________________________________________________\n",
            "activation_36 (Activation)   (None, 24, 24, 16)        0         \n",
            "_________________________________________________________________\n",
            "dropout_9 (Dropout)          (None, 24, 24, 16)        0         \n",
            "_________________________________________________________________\n",
            "conv2d_39 (Conv2D)           (None, 22, 22, 24)        3480      \n",
            "_________________________________________________________________\n",
            "batch_normalization_34 (Batc (None, 22, 22, 24)        96        \n",
            "_________________________________________________________________\n",
            "activation_37 (Activation)   (None, 22, 22, 24)        0         \n",
            "_________________________________________________________________\n",
            "max_pooling2d_5 (MaxPooling2 (None, 11, 11, 24)        0         \n",
            "_________________________________________________________________\n",
            "conv2d_40 (Conv2D)           (None, 11, 11, 10)        250       \n",
            "_________________________________________________________________\n",
            "conv2d_41 (Conv2D)           (None, 9, 9, 8)           728       \n",
            "_________________________________________________________________\n",
            "batch_normalization_35 (Batc (None, 9, 9, 8)           32        \n",
            "_________________________________________________________________\n",
            "activation_38 (Activation)   (None, 9, 9, 8)           0         \n",
            "_________________________________________________________________\n",
            "conv2d_42 (Conv2D)           (None, 7, 7, 16)          1168      \n",
            "_________________________________________________________________\n",
            "batch_normalization_36 (Batc (None, 7, 7, 16)          64        \n",
            "_________________________________________________________________\n",
            "activation_39 (Activation)   (None, 7, 7, 16)          0         \n",
            "_________________________________________________________________\n",
            "dropout_10 (Dropout)         (None, 7, 7, 16)          0         \n",
            "_________________________________________________________________\n",
            "conv2d_43 (Conv2D)           (None, 5, 5, 24)          3480      \n",
            "_________________________________________________________________\n",
            "batch_normalization_37 (Batc (None, 5, 5, 24)          96        \n",
            "_________________________________________________________________\n",
            "activation_40 (Activation)   (None, 5, 5, 24)          0         \n",
            "_________________________________________________________________\n",
            "conv2d_44 (Conv2D)           (None, 3, 3, 24)          5208      \n",
            "_________________________________________________________________\n",
            "batch_normalization_38 (Batc (None, 3, 3, 24)          96        \n",
            "_________________________________________________________________\n",
            "activation_41 (Activation)   (None, 3, 3, 24)          0         \n",
            "_________________________________________________________________\n",
            "conv2d_45 (Conv2D)           (None, 1, 1, 10)          2170      \n",
            "_________________________________________________________________\n",
            "batch_normalization_39 (Batc (None, 1, 1, 10)          40        \n",
            "_________________________________________________________________\n",
            "activation_42 (Activation)   (None, 1, 1, 10)          0         \n",
            "_________________________________________________________________\n",
            "flatten_5 (Flatten)          (None, 10)                0         \n",
            "_________________________________________________________________\n",
            "activation_43 (Activation)   (None, 10)                0         \n",
            "=================================================================\n",
            "Total params: 18,252\n",
            "Trainable params: 17,992\n",
            "Non-trainable params: 260\n",
            "_________________________________________________________________\n"
          ],
          "name": "stdout"
        }
      ]
    },
    {
      "cell_type": "code",
      "metadata": {
        "id": "Zp6SuGrL9M3h",
        "colab_type": "code",
        "colab": {}
      },
      "source": [
        "# Compile the above model with loss type of categorical_crossentropy as the output is categorical type\n",
        "# optimizer 'adam' is based on stochastic gradient which is efficient \n",
        "from keras.optimizers import Adam\n",
        "model.compile(loss='categorical_crossentropy',\n",
        "             optimizer='Adam',\n",
        "             metrics=['accuracy'])"
      ],
      "execution_count": 0,
      "outputs": []
    },
    {
      "cell_type": "code",
      "metadata": {
        "id": "4xWoKhPY9Of5",
        "colab_type": "code",
        "outputId": "bbdbf60b-e988-4ce0-c347-649bad5b330f",
        "colab": {
          "base_uri": "https://localhost:8080/",
          "height": 1428
        }
      },
      "source": [
        "#Train the model with batch_size of 32 and for 10 epochs\n",
        "model.fit(X_train, Y_train, batch_size=32, nb_epoch=40, verbose=1)"
      ],
      "execution_count": 0,
      "outputs": [
        {
          "output_type": "stream",
          "text": [
            "/usr/local/lib/python3.6/dist-packages/ipykernel_launcher.py:1: UserWarning: The `nb_epoch` argument in `fit` has been renamed `epochs`.\n",
            "  \"\"\"Entry point for launching an IPython kernel.\n"
          ],
          "name": "stderr"
        },
        {
          "output_type": "stream",
          "text": [
            "Epoch 1/40\n",
            "60000/60000 [==============================] - 42s 694us/step - loss: 0.4609 - acc: 0.9120\n",
            "Epoch 2/40\n",
            "60000/60000 [==============================] - 39s 658us/step - loss: 0.1724 - acc: 0.9646\n",
            "Epoch 3/40\n",
            "60000/60000 [==============================] - 40s 661us/step - loss: 0.1174 - acc: 0.9734\n",
            "Epoch 4/40\n",
            "60000/60000 [==============================] - 40s 659us/step - loss: 0.0931 - acc: 0.9782\n",
            "Epoch 5/40\n",
            "60000/60000 [==============================] - 39s 656us/step - loss: 0.0768 - acc: 0.9813\n",
            "Epoch 6/40\n",
            "60000/60000 [==============================] - 39s 656us/step - loss: 0.0685 - acc: 0.9829\n",
            "Epoch 7/40\n",
            "60000/60000 [==============================] - 39s 655us/step - loss: 0.0605 - acc: 0.9842\n",
            "Epoch 8/40\n",
            "60000/60000 [==============================] - 39s 655us/step - loss: 0.0544 - acc: 0.9856\n",
            "Epoch 9/40\n",
            "60000/60000 [==============================] - 39s 655us/step - loss: 0.0520 - acc: 0.9863\n",
            "Epoch 10/40\n",
            "60000/60000 [==============================] - 39s 656us/step - loss: 0.0489 - acc: 0.9866\n",
            "Epoch 11/40\n",
            "60000/60000 [==============================] - 39s 656us/step - loss: 0.0453 - acc: 0.9878\n",
            "Epoch 12/40\n",
            "60000/60000 [==============================] - 39s 654us/step - loss: 0.0420 - acc: 0.9890\n",
            "Epoch 13/40\n",
            "60000/60000 [==============================] - 39s 655us/step - loss: 0.0399 - acc: 0.9896\n",
            "Epoch 14/40\n",
            "60000/60000 [==============================] - 39s 654us/step - loss: 0.0386 - acc: 0.9893\n",
            "Epoch 15/40\n",
            "60000/60000 [==============================] - 39s 656us/step - loss: 0.0347 - acc: 0.9907\n",
            "Epoch 16/40\n",
            "60000/60000 [==============================] - 40s 659us/step - loss: 0.0360 - acc: 0.9903\n",
            "Epoch 17/40\n",
            "60000/60000 [==============================] - 39s 657us/step - loss: 0.0350 - acc: 0.9905\n",
            "Epoch 18/40\n",
            "60000/60000 [==============================] - 39s 656us/step - loss: 0.0329 - acc: 0.9908\n",
            "Epoch 19/40\n",
            "60000/60000 [==============================] - 39s 657us/step - loss: 0.0313 - acc: 0.9911\n",
            "Epoch 20/40\n",
            "60000/60000 [==============================] - 39s 655us/step - loss: 0.0318 - acc: 0.9914\n",
            "Epoch 21/40\n",
            "60000/60000 [==============================] - 39s 657us/step - loss: 0.0285 - acc: 0.9917\n",
            "Epoch 22/40\n",
            "60000/60000 [==============================] - 40s 660us/step - loss: 0.0289 - acc: 0.9920\n",
            "Epoch 23/40\n",
            "60000/60000 [==============================] - 39s 657us/step - loss: 0.0288 - acc: 0.9919\n",
            "Epoch 24/40\n",
            "60000/60000 [==============================] - 39s 656us/step - loss: 0.0278 - acc: 0.9923\n",
            "Epoch 25/40\n",
            "60000/60000 [==============================] - 39s 657us/step - loss: 0.0277 - acc: 0.9918\n",
            "Epoch 26/40\n",
            "60000/60000 [==============================] - 39s 655us/step - loss: 0.0242 - acc: 0.9933\n",
            "Epoch 27/40\n",
            "60000/60000 [==============================] - 40s 660us/step - loss: 0.0233 - acc: 0.9933\n",
            "Epoch 28/40\n",
            "60000/60000 [==============================] - 39s 656us/step - loss: 0.0242 - acc: 0.9932\n",
            "Epoch 29/40\n",
            "60000/60000 [==============================] - 39s 655us/step - loss: 0.0242 - acc: 0.9933\n",
            "Epoch 30/40\n",
            "60000/60000 [==============================] - 39s 657us/step - loss: 0.0231 - acc: 0.9935\n",
            "Epoch 31/40\n",
            "60000/60000 [==============================] - 39s 657us/step - loss: 0.0232 - acc: 0.9936\n",
            "Epoch 32/40\n",
            "60000/60000 [==============================] - 39s 654us/step - loss: 0.0221 - acc: 0.9935\n",
            "Epoch 33/40\n",
            "60000/60000 [==============================] - 39s 655us/step - loss: 0.0212 - acc: 0.9938\n",
            "Epoch 34/40\n",
            "60000/60000 [==============================] - 39s 658us/step - loss: 0.0216 - acc: 0.9934\n",
            "Epoch 35/40\n",
            "60000/60000 [==============================] - 39s 656us/step - loss: 0.0206 - acc: 0.9939\n",
            "Epoch 36/40\n",
            "60000/60000 [==============================] - 40s 659us/step - loss: 0.0210 - acc: 0.9939\n",
            "Epoch 37/40\n",
            "60000/60000 [==============================] - 40s 661us/step - loss: 0.0206 - acc: 0.9942\n",
            "Epoch 38/40\n",
            "60000/60000 [==============================] - 39s 657us/step - loss: 0.0207 - acc: 0.9942\n",
            "Epoch 39/40\n",
            "60000/60000 [==============================] - 39s 657us/step - loss: 0.0193 - acc: 0.9941\n",
            "Epoch 40/40\n",
            "60000/60000 [==============================] - 39s 656us/step - loss: 0.0185 - acc: 0.9947\n"
          ],
          "name": "stdout"
        },
        {
          "output_type": "execute_result",
          "data": {
            "text/plain": [
              "<keras.callbacks.History at 0x7f92bb329588>"
            ]
          },
          "metadata": {
            "tags": []
          },
          "execution_count": 63
        }
      ]
    },
    {
      "cell_type": "code",
      "metadata": {
        "id": "AtsH-lLk-eLb",
        "colab_type": "code",
        "colab": {}
      },
      "source": [
        "#Evaluate the trained model with Test Data set\n",
        "score = model.evaluate(X_test, Y_test, verbose=0)"
      ],
      "execution_count": 0,
      "outputs": []
    },
    {
      "cell_type": "code",
      "metadata": {
        "id": "mkX8JMv79q9r",
        "colab_type": "code",
        "outputId": "16e849c9-341a-4c7c-c448-dd5959b09a49",
        "colab": {
          "base_uri": "https://localhost:8080/",
          "height": 34
        }
      },
      "source": [
        "print(score)"
      ],
      "execution_count": 0,
      "outputs": [
        {
          "output_type": "stream",
          "text": [
            "[0.02120129779402632, 0.9941]\n"
          ],
          "name": "stdout"
        }
      ]
    },
    {
      "cell_type": "code",
      "metadata": {
        "id": "OCWoJkwE9suh",
        "colab_type": "code",
        "colab": {}
      },
      "source": [
        "y_pred = model.predict(X_test)"
      ],
      "execution_count": 0,
      "outputs": []
    },
    {
      "cell_type": "code",
      "metadata": {
        "id": "Ym7iCFBm9uBs",
        "colab_type": "code",
        "outputId": "b73fc563-9d28-44b0-8b2f-1b5ea6d98e39",
        "colab": {
          "base_uri": "https://localhost:8080/",
          "height": 340
        }
      },
      "source": [
        "print(y_pred[:9])\n",
        "print(y_test[:9])"
      ],
      "execution_count": 0,
      "outputs": [
        {
          "output_type": "stream",
          "text": [
            "[[1.9941426e-05 1.4619132e-04 3.0470994e-05 4.5430799e-05 9.7288437e-05\n",
            "  1.9941426e-05 1.9941426e-05 9.9955827e-01 1.9941426e-05 4.2570235e-05]\n",
            " [6.5080172e-07 1.1018042e-05 9.9998391e-01 6.3290452e-07 6.3290452e-07\n",
            "  6.3290452e-07 6.3290452e-07 6.3290452e-07 6.3290452e-07 6.3290452e-07]\n",
            " [6.6803176e-07 9.9999154e-01 7.9154759e-08 1.8936656e-06 2.7572082e-07\n",
            "  6.6207110e-07 2.7510375e-06 1.2624173e-06 1.9981428e-07 4.6649876e-07]\n",
            " [9.9979132e-01 1.0030707e-04 1.0009836e-06 1.0009836e-06 2.6389614e-06\n",
            "  1.0009836e-06 4.8886188e-05 3.7105392e-06 2.3437387e-06 4.7753692e-05]\n",
            " [7.5379459e-05 2.3551917e-04 2.1847194e-05 3.3613385e-05 9.9946183e-01\n",
            "  4.4156201e-05 2.1847194e-05 2.1847194e-05 2.1847194e-05 6.2035622e-05]\n",
            " [2.6615646e-07 9.9999392e-01 3.0562504e-08 7.7841872e-07 1.9984145e-07\n",
            "  1.1687359e-07 2.4092301e-06 1.7898824e-06 5.4146447e-08 4.1978964e-07]\n",
            " [6.0538587e-06 1.1924114e-05 6.0538587e-06 6.0538587e-06 9.9992621e-01\n",
            "  6.0538587e-06 7.4200379e-06 6.0538587e-06 1.3418601e-05 1.0786839e-05]\n",
            " [8.1212465e-06 1.2863411e-04 5.8728710e-05 8.1212465e-06 1.5778342e-04\n",
            "  1.1678969e-05 1.0901460e-04 1.5578167e-04 8.1212465e-06 9.9935406e-01]\n",
            " [1.6925953e-03 1.6925953e-03 1.6925953e-03 1.6925953e-03 1.6925953e-03\n",
            "  8.7841189e-01 1.0217299e-01 1.6925953e-03 7.5669545e-03 1.6925953e-03]]\n",
            "[7 2 1 0 4 1 4 9 5]\n"
          ],
          "name": "stdout"
        }
      ]
    },
    {
      "cell_type": "code",
      "metadata": {
        "id": "CT--y98_dr2T",
        "colab_type": "code",
        "colab": {}
      },
      "source": [
        "layer_dict = dict([(layer.name, layer) for layer in model.layers])"
      ],
      "execution_count": 0,
      "outputs": []
    },
    {
      "cell_type": "code",
      "metadata": {
        "id": "2GY4Upv4dsUR",
        "colab_type": "code",
        "outputId": "cb476a59-fc65-4044-ea53-90814d3eeeca",
        "colab": {
          "base_uri": "https://localhost:8080/",
          "height": 316
        }
      },
      "source": [
        "import numpy as np\n",
        "from matplotlib import pyplot as plt\n",
        "from keras import backend as K\n",
        "%matplotlib inline\n",
        "# util function to convert a tensor into a valid image\n",
        "def deprocess_image(x):\n",
        "    # normalize tensor: center on 0., ensure std is 0.1\n",
        "    x -= x.mean()\n",
        "    x /= (x.std() + 1e-5)\n",
        "    x *= 0.1\n",
        "\n",
        "    # clip to [0, 1]\n",
        "    x += 0.5\n",
        "    x = np.clip(x, 0, 1)\n",
        "\n",
        "    # convert to RGB array\n",
        "    x *= 255\n",
        "    #x = x.transpose((1, 2, 0))\n",
        "    x = np.clip(x, 0, 255).astype('uint8')\n",
        "    return x\n",
        "\n",
        "def vis_img_in_filter(img = np.array(X_train[2]).reshape((1, 28, 28, 1)).astype(np.float64), \n",
        "                      layer_name = 'conv2d_14'):\n",
        "    layer_output = layer_dict[layer_name].output\n",
        "    img_ascs = list()\n",
        "    for filter_index in range(layer_output.shape[3]):\n",
        "        # build a loss function that maximizes the activation\n",
        "        # of the nth filter of the layer considered\n",
        "        loss = K.mean(layer_output[:, :, :, filter_index])\n",
        "\n",
        "        # compute the gradient of the input picture wrt this loss\n",
        "        grads = K.gradients(loss, model.input)[0]\n",
        "\n",
        "        # normalization trick: we normalize the gradient\n",
        "        grads /= (K.sqrt(K.mean(K.square(grads))) + 1e-5)\n",
        "\n",
        "        # this function returns the loss and grads given the input picture\n",
        "        iterate = K.function([model.input], [loss, grads])\n",
        "\n",
        "        # step size for gradient ascent\n",
        "        step = 5.\n",
        "\n",
        "        img_asc = np.array(img)\n",
        "        # run gradient ascent for 20 steps\n",
        "        for i in range(20):\n",
        "            loss_value, grads_value = iterate([img_asc])\n",
        "            img_asc += grads_value * step\n",
        "\n",
        "        img_asc = img_asc[0]\n",
        "        img_ascs.append(deprocess_image(img_asc).reshape((28, 28)))\n",
        "        \n",
        "    if layer_output.shape[3] >= 35:\n",
        "        plot_x, plot_y = 6, 6\n",
        "    elif layer_output.shape[3] >= 23:\n",
        "        plot_x, plot_y = 4, 6\n",
        "    elif layer_output.shape[3] >= 11:\n",
        "        plot_x, plot_y = 2, 6\n",
        "    else:\n",
        "        plot_x, plot_y = 1, 2\n",
        "    fig, ax = plt.subplots(plot_x, plot_y, figsize = (12, 12))\n",
        "    ax[0, 0].imshow(img.reshape((28, 28)), cmap = 'gray')\n",
        "    ax[0, 0].set_title('Input image')\n",
        "    fig.suptitle('Input image and %s filters' % (layer_name,))\n",
        "    fig.tight_layout(pad = 0.3, rect = [0, 0, 0.9, 0.9])\n",
        "    for (x, y) in [(i, j) for i in range(plot_x) for j in range(plot_y)]:\n",
        "        if x == 0 and y == 0:\n",
        "            continue\n",
        "        ax[x, y].imshow(img_ascs[x * plot_y + y - 1], cmap = 'gray')\n",
        "        ax[x, y].set_title('filter %d' % (x * plot_y + y - 1))\n",
        "\n",
        "vis_img_in_filter()"
      ],
      "execution_count": 0,
      "outputs": [
        {
          "output_type": "error",
          "ename": "KeyError",
          "evalue": "ignored",
          "traceback": [
            "\u001b[0;31m---------------------------------------------------------------------------\u001b[0m",
            "\u001b[0;31mKeyError\u001b[0m                                  Traceback (most recent call last)",
            "\u001b[0;32m<ipython-input-69-19229f66b51a>\u001b[0m in \u001b[0;36m<module>\u001b[0;34m()\u001b[0m\n\u001b[1;32m     69\u001b[0m         \u001b[0max\u001b[0m\u001b[0;34m[\u001b[0m\u001b[0mx\u001b[0m\u001b[0;34m,\u001b[0m \u001b[0my\u001b[0m\u001b[0;34m]\u001b[0m\u001b[0;34m.\u001b[0m\u001b[0mset_title\u001b[0m\u001b[0;34m(\u001b[0m\u001b[0;34m'filter %d'\u001b[0m \u001b[0;34m%\u001b[0m \u001b[0;34m(\u001b[0m\u001b[0mx\u001b[0m \u001b[0;34m*\u001b[0m \u001b[0mplot_y\u001b[0m \u001b[0;34m+\u001b[0m \u001b[0my\u001b[0m \u001b[0;34m-\u001b[0m \u001b[0;36m1\u001b[0m\u001b[0;34m)\u001b[0m\u001b[0;34m)\u001b[0m\u001b[0;34m\u001b[0m\u001b[0;34m\u001b[0m\u001b[0m\n\u001b[1;32m     70\u001b[0m \u001b[0;34m\u001b[0m\u001b[0m\n\u001b[0;32m---> 71\u001b[0;31m \u001b[0mvis_img_in_filter\u001b[0m\u001b[0;34m(\u001b[0m\u001b[0;34m)\u001b[0m\u001b[0;34m\u001b[0m\u001b[0;34m\u001b[0m\u001b[0m\n\u001b[0m",
            "\u001b[0;32m<ipython-input-69-19229f66b51a>\u001b[0m in \u001b[0;36mvis_img_in_filter\u001b[0;34m(img, layer_name)\u001b[0m\n\u001b[1;32m     22\u001b[0m def vis_img_in_filter(img = np.array(X_train[2]).reshape((1, 28, 28, 1)).astype(np.float64), \n\u001b[1;32m     23\u001b[0m                       layer_name = 'conv2d_14'):\n\u001b[0;32m---> 24\u001b[0;31m     \u001b[0mlayer_output\u001b[0m \u001b[0;34m=\u001b[0m \u001b[0mlayer_dict\u001b[0m\u001b[0;34m[\u001b[0m\u001b[0mlayer_name\u001b[0m\u001b[0;34m]\u001b[0m\u001b[0;34m.\u001b[0m\u001b[0moutput\u001b[0m\u001b[0;34m\u001b[0m\u001b[0;34m\u001b[0m\u001b[0m\n\u001b[0m\u001b[1;32m     25\u001b[0m     \u001b[0mimg_ascs\u001b[0m \u001b[0;34m=\u001b[0m \u001b[0mlist\u001b[0m\u001b[0;34m(\u001b[0m\u001b[0;34m)\u001b[0m\u001b[0;34m\u001b[0m\u001b[0;34m\u001b[0m\u001b[0m\n\u001b[1;32m     26\u001b[0m     \u001b[0;32mfor\u001b[0m \u001b[0mfilter_index\u001b[0m \u001b[0;32min\u001b[0m \u001b[0mrange\u001b[0m\u001b[0;34m(\u001b[0m\u001b[0mlayer_output\u001b[0m\u001b[0;34m.\u001b[0m\u001b[0mshape\u001b[0m\u001b[0;34m[\u001b[0m\u001b[0;36m3\u001b[0m\u001b[0;34m]\u001b[0m\u001b[0;34m)\u001b[0m\u001b[0;34m:\u001b[0m\u001b[0;34m\u001b[0m\u001b[0;34m\u001b[0m\u001b[0m\n",
            "\u001b[0;31mKeyError\u001b[0m: 'conv2d_14'"
          ]
        }
      ]
    },
    {
      "cell_type": "code",
      "metadata": {
        "id": "9tvptcn8dxvp",
        "colab_type": "code",
        "colab": {}
      },
      "source": [
        ""
      ],
      "execution_count": 0,
      "outputs": []
    }
  ]
}